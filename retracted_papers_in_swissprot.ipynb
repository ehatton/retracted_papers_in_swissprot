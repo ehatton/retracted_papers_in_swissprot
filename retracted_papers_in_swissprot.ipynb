{
 "cells": [
  {
   "cell_type": "markdown",
   "metadata": {},
   "source": [
    "# Retracted papers in SwissProt\n",
    "\n",
    "Emma Hatton-Ellis, 06/11/2020"
   ]
  },
  {
   "cell_type": "code",
   "execution_count": 1,
   "metadata": {},
   "outputs": [],
   "source": [
    "import requests\n",
    "import urllib\n",
    "\n",
    "import pandas as pd\n",
    "import numpy as np\n",
    "import xml.etree.ElementTree as et"
   ]
  },
  {
   "source": [
    "The cell below specifies parameters which can be set when running the notebook from the command line with papermill."
   ],
   "cell_type": "markdown",
   "metadata": {}
  },
  {
   "cell_type": "code",
   "execution_count": 2,
   "metadata": {
    "tags": [
     "parameters"
    ]
   },
   "outputs": [],
   "source": [
    "report_file = 'uncurated_retractions.tsv'\n",
    "email = None"
   ]
  },
  {
   "cell_type": "code",
   "execution_count": 3,
   "metadata": {},
   "outputs": [],
   "source": [
    "esearch_url = 'https://eutils.ncbi.nlm.nih.gov/entrez/eutils/esearch.fcgi'\n",
    "esummary_url = 'https://eutils.ncbi.nlm.nih.gov/entrez/eutils/esummary.fcgi'"
   ]
  },
  {
   "cell_type": "code",
   "execution_count": 4,
   "metadata": {},
   "outputs": [],
   "source": [
    "search_params = {\n",
    "    'db': 'pubmed',\n",
    "    'term': 'Retracted publication[PT]',\n",
    "    'email': email,\n",
    "    'retmax': 0,\n",
    "    'usehistory': 'yes',\n",
    "    'retmode': 'json'\n",
    "}"
   ]
  },
  {
   "cell_type": "code",
   "execution_count": 5,
   "metadata": {},
   "outputs": [],
   "source": [
    "r = requests.get(esearch_url, params=search_params)\n",
    "r.raise_for_status()\n",
    "res = r.json()"
   ]
  },
  {
   "cell_type": "code",
   "execution_count": 6,
   "metadata": {},
   "outputs": [
    {
     "output_type": "execute_result",
     "data": {
      "text/plain": [
       "{'header': {'type': 'esearch', 'version': '0.3'},\n",
       " 'esearchresult': {'count': '8276',\n",
       "  'retmax': '0',\n",
       "  'retstart': '0',\n",
       "  'querykey': '1',\n",
       "  'webenv': 'MCID_5fda26524911161ab6524703',\n",
       "  'idlist': [],\n",
       "  'translationset': [],\n",
       "  'translationstack': [{'term': 'Retracted publication[PT]',\n",
       "    'field': 'PT',\n",
       "    'count': '8276',\n",
       "    'explode': 'Y'},\n",
       "   'GROUP'],\n",
       "  'querytranslation': 'Retracted publication[PT]'}}"
      ]
     },
     "metadata": {},
     "execution_count": 6
    }
   ],
   "source": [
    "res"
   ]
  },
  {
   "source": [
    "Number of retracted publications in PubMed."
   ],
   "cell_type": "markdown",
   "metadata": {}
  },
  {
   "cell_type": "code",
   "execution_count": 7,
   "metadata": {},
   "outputs": [
    {
     "output_type": "execute_result",
     "data": {
      "text/plain": [
       "8276"
      ]
     },
     "metadata": {},
     "execution_count": 7
    }
   ],
   "source": [
    "search_hits = int(res['esearchresult']['count'])\n",
    "search_hits"
   ]
  },
  {
   "cell_type": "code",
   "execution_count": 8,
   "metadata": {},
   "outputs": [],
   "source": [
    "webenv = res['esearchresult']['webenv']\n",
    "qkey = res['esearchresult']['querykey']"
   ]
  },
  {
   "cell_type": "code",
   "execution_count": 9,
   "metadata": {},
   "outputs": [],
   "source": [
    "summary_params = {\n",
    "    'db': 'pubmed',\n",
    "    'email': email,\n",
    "    'webenv': webenv,\n",
    "    'query_key': qkey,\n",
    "    'retstart': 1,\n",
    "    'retmax': 10000, # max allowed for xml\n",
    "    'retmode': 'xml'\n",
    "}"
   ]
  },
  {
   "cell_type": "code",
   "execution_count": 10,
   "metadata": {},
   "outputs": [],
   "source": [
    "def extract_pubmed_data(xml):\n",
    "    \"\"\"Extracts data from an Entrez ESummary xml document of PubMed citations.\n",
    "\n",
    "    Returns a list of dictionaries (keys are pmid, title and retraction_notice_pmid) which\n",
    "    can then be converted into a dataframe.\n",
    "\n",
    "    Args:\n",
    "        xml (str): string in Entrez ESummary xml format.\n",
    "\n",
    "    Returns:\n",
    "        rows: list of dictionaries.\n",
    "    \"\"\"\n",
    "\n",
    "    rows = []\n",
    "    tree = et.fromstring(xml)\n",
    "    for docsum in tree:\n",
    "        pmid = docsum.find('Id').text\n",
    "        title = docsum.find('./Item[@Name=\"Title\"]').text\n",
    "        related_pubs = [x.text for x in docsum.findall('./Item[@Name=\"References\"]/Item[@Name=\"Retraction in\"]')]\n",
    "        retraction_notice_pmid = []\n",
    "        for x in related_pubs:\n",
    "            try:\n",
    "                notice_pmid = x.split('PMID: ')[1]\n",
    "            except IndexError:\n",
    "                notice_pmid = None\n",
    "            retraction_notice_pmid.append(notice_pmid)\n",
    "        rows.append({'pmid': pmid, 'title': title, 'retraction_notice_pmid': retraction_notice_pmid})\n",
    "    return rows"
   ]
  },
  {
   "cell_type": "code",
   "execution_count": 11,
   "metadata": {},
   "outputs": [],
   "source": [
    "pm_rows = []\n",
    "with requests.Session() as session:\n",
    "    for i in range(0, search_hits, 10000):\n",
    "        summary_params['retstart'] = i\n",
    "        r = session.get(esummary_url, params=summary_params)\n",
    "        r.raise_for_status()\n",
    "        pm_rows += extract_pubmed_data(r.text)"
   ]
  },
  {
   "cell_type": "code",
   "execution_count": 12,
   "metadata": {},
   "outputs": [
    {
     "output_type": "execute_result",
     "data": {
      "text/plain": [
       "          pmid                                              title  \\\n",
       "0     33074103  Amino acid synthesis loss in parasitoid wasps ...   \n",
       "1     33040737  Globalization and vulnerable populations in ti...   \n",
       "2     32983561  Retracted: Exploring the microbiome and mindfu...   \n",
       "3     32922604  Circulating miR-134 is a potential biomarker f...   \n",
       "4     32884299  lncRNA LSINCT5 Regulates miR-20a-5p/XIAP to In...   \n",
       "...        ...                                                ...   \n",
       "8271   4122370  Peripheral thymus-dependent (T) lymphocytes in...   \n",
       "8272   4120258  Chromosome assignments in man of the genes for...   \n",
       "8273   5659639  Effect of x-rays on the electrical conductance...   \n",
       "8274  14043337                     UNMINERALIZED FOSSIL BACTERIA.   \n",
       "8275  13850774      On the primary site of nuclear RNA synthesis.   \n",
       "\n",
       "     retraction_notice_pmid  \n",
       "0                [33258773]  \n",
       "1                [33317564]  \n",
       "2                [32986044]  \n",
       "3                [33284900]  \n",
       "4                [33273824]  \n",
       "...                     ...  \n",
       "8271              [1079321]  \n",
       "8272     [1088818, 1203488]  \n",
       "8273              [5409980]  \n",
       "8274              [5644050]  \n",
       "8275              [5971970]  \n",
       "\n",
       "[8276 rows x 3 columns]"
      ],
      "text/html": "<div>\n<style scoped>\n    .dataframe tbody tr th:only-of-type {\n        vertical-align: middle;\n    }\n\n    .dataframe tbody tr th {\n        vertical-align: top;\n    }\n\n    .dataframe thead th {\n        text-align: right;\n    }\n</style>\n<table border=\"1\" class=\"dataframe\">\n  <thead>\n    <tr style=\"text-align: right;\">\n      <th></th>\n      <th>pmid</th>\n      <th>title</th>\n      <th>retraction_notice_pmid</th>\n    </tr>\n  </thead>\n  <tbody>\n    <tr>\n      <th>0</th>\n      <td>33074103</td>\n      <td>Amino acid synthesis loss in parasitoid wasps ...</td>\n      <td>[33258773]</td>\n    </tr>\n    <tr>\n      <th>1</th>\n      <td>33040737</td>\n      <td>Globalization and vulnerable populations in ti...</td>\n      <td>[33317564]</td>\n    </tr>\n    <tr>\n      <th>2</th>\n      <td>32983561</td>\n      <td>Retracted: Exploring the microbiome and mindfu...</td>\n      <td>[32986044]</td>\n    </tr>\n    <tr>\n      <th>3</th>\n      <td>32922604</td>\n      <td>Circulating miR-134 is a potential biomarker f...</td>\n      <td>[33284900]</td>\n    </tr>\n    <tr>\n      <th>4</th>\n      <td>32884299</td>\n      <td>lncRNA LSINCT5 Regulates miR-20a-5p/XIAP to In...</td>\n      <td>[33273824]</td>\n    </tr>\n    <tr>\n      <th>...</th>\n      <td>...</td>\n      <td>...</td>\n      <td>...</td>\n    </tr>\n    <tr>\n      <th>8271</th>\n      <td>4122370</td>\n      <td>Peripheral thymus-dependent (T) lymphocytes in...</td>\n      <td>[1079321]</td>\n    </tr>\n    <tr>\n      <th>8272</th>\n      <td>4120258</td>\n      <td>Chromosome assignments in man of the genes for...</td>\n      <td>[1088818, 1203488]</td>\n    </tr>\n    <tr>\n      <th>8273</th>\n      <td>5659639</td>\n      <td>Effect of x-rays on the electrical conductance...</td>\n      <td>[5409980]</td>\n    </tr>\n    <tr>\n      <th>8274</th>\n      <td>14043337</td>\n      <td>UNMINERALIZED FOSSIL BACTERIA.</td>\n      <td>[5644050]</td>\n    </tr>\n    <tr>\n      <th>8275</th>\n      <td>13850774</td>\n      <td>On the primary site of nuclear RNA synthesis.</td>\n      <td>[5971970]</td>\n    </tr>\n  </tbody>\n</table>\n<p>8276 rows × 3 columns</p>\n</div>"
     },
     "metadata": {},
     "execution_count": 12
    }
   ],
   "source": [
    "columns = ['pmid', 'title', 'retraction_notice_pmid']\n",
    "retracted_papers = pd.DataFrame(pm_rows, columns=columns)\n",
    "retracted_papers"
   ]
  },
  {
   "cell_type": "code",
   "execution_count": 13,
   "metadata": {},
   "outputs": [],
   "source": [
    "# Double-check that the correct number of references has been retrieved\n",
    "assert len(retracted_papers) == search_hits"
   ]
  },
  {
   "cell_type": "code",
   "execution_count": 14,
   "metadata": {},
   "outputs": [],
   "source": [
    "retracted_papers = retracted_papers.explode('retraction_notice_pmid')"
   ]
  },
  {
   "cell_type": "markdown",
   "metadata": {},
   "source": [
    "Number of retracted papers with no retraction notice PMID."
   ]
  },
  {
   "cell_type": "code",
   "execution_count": 15,
   "metadata": {},
   "outputs": [
    {
     "output_type": "execute_result",
     "data": {
      "text/plain": [
       "          pmid                                              title  \\\n",
       "94    32196579  LncRNA FEZF1-AS1 promoted chemoresistance, aut...   \n",
       "144   32016976  Effect of miR-200c on migration and proliferat...   \n",
       "145   32016952  FBW7 inhibits nucleus pulposus cells prolifera...   \n",
       "146   32016949  Effect of exosomes derived from mir-126-modifi...   \n",
       "156   31981186  RETRACTED ARTICLE: Long non-coding RNAs in cer...   \n",
       "...        ...                                                ...   \n",
       "7597  10597557  Prevention of postoperative vomiting with gran...   \n",
       "7717   9698964  Modified double burst stimulation of varying s...   \n",
       "7793   9241335  Evaluation of residual neuromuscular blockade ...   \n",
       "8175   2993656  A mos oncogene-containing retrovirus, myelopro...   \n",
       "8249    367632  Neurogenic skeletal myopathy in patients with ...   \n",
       "\n",
       "     retraction_notice_pmid  \n",
       "94                      NaN  \n",
       "144                     NaN  \n",
       "145                     NaN  \n",
       "146                     NaN  \n",
       "156                     NaN  \n",
       "...                     ...  \n",
       "7597                    NaN  \n",
       "7717                    NaN  \n",
       "7793                    NaN  \n",
       "8175                    NaN  \n",
       "8249                    NaN  \n",
       "\n",
       "[124 rows x 3 columns]"
      ],
      "text/html": "<div>\n<style scoped>\n    .dataframe tbody tr th:only-of-type {\n        vertical-align: middle;\n    }\n\n    .dataframe tbody tr th {\n        vertical-align: top;\n    }\n\n    .dataframe thead th {\n        text-align: right;\n    }\n</style>\n<table border=\"1\" class=\"dataframe\">\n  <thead>\n    <tr style=\"text-align: right;\">\n      <th></th>\n      <th>pmid</th>\n      <th>title</th>\n      <th>retraction_notice_pmid</th>\n    </tr>\n  </thead>\n  <tbody>\n    <tr>\n      <th>94</th>\n      <td>32196579</td>\n      <td>LncRNA FEZF1-AS1 promoted chemoresistance, aut...</td>\n      <td>NaN</td>\n    </tr>\n    <tr>\n      <th>144</th>\n      <td>32016976</td>\n      <td>Effect of miR-200c on migration and proliferat...</td>\n      <td>NaN</td>\n    </tr>\n    <tr>\n      <th>145</th>\n      <td>32016952</td>\n      <td>FBW7 inhibits nucleus pulposus cells prolifera...</td>\n      <td>NaN</td>\n    </tr>\n    <tr>\n      <th>146</th>\n      <td>32016949</td>\n      <td>Effect of exosomes derived from mir-126-modifi...</td>\n      <td>NaN</td>\n    </tr>\n    <tr>\n      <th>156</th>\n      <td>31981186</td>\n      <td>RETRACTED ARTICLE: Long non-coding RNAs in cer...</td>\n      <td>NaN</td>\n    </tr>\n    <tr>\n      <th>...</th>\n      <td>...</td>\n      <td>...</td>\n      <td>...</td>\n    </tr>\n    <tr>\n      <th>7597</th>\n      <td>10597557</td>\n      <td>Prevention of postoperative vomiting with gran...</td>\n      <td>NaN</td>\n    </tr>\n    <tr>\n      <th>7717</th>\n      <td>9698964</td>\n      <td>Modified double burst stimulation of varying s...</td>\n      <td>NaN</td>\n    </tr>\n    <tr>\n      <th>7793</th>\n      <td>9241335</td>\n      <td>Evaluation of residual neuromuscular blockade ...</td>\n      <td>NaN</td>\n    </tr>\n    <tr>\n      <th>8175</th>\n      <td>2993656</td>\n      <td>A mos oncogene-containing retrovirus, myelopro...</td>\n      <td>NaN</td>\n    </tr>\n    <tr>\n      <th>8249</th>\n      <td>367632</td>\n      <td>Neurogenic skeletal myopathy in patients with ...</td>\n      <td>NaN</td>\n    </tr>\n  </tbody>\n</table>\n<p>124 rows × 3 columns</p>\n</div>"
     },
     "metadata": {},
     "execution_count": 15
    }
   ],
   "source": [
    "retracted_papers.retraction_notice_pmid.fillna(value=np.nan, inplace=True)\n",
    "retracted_papers[retracted_papers['retraction_notice_pmid'].isnull()]"
   ]
  },
  {
   "cell_type": "code",
   "execution_count": 16,
   "metadata": {},
   "outputs": [
    {
     "output_type": "execute_result",
     "data": {
      "text/plain": [
       "          pmid                                              title  \\\n",
       "0     33074103  Amino acid synthesis loss in parasitoid wasps ...   \n",
       "1     33040737  Globalization and vulnerable populations in ti...   \n",
       "2     32983561  Retracted: Exploring the microbiome and mindfu...   \n",
       "3     32922604  Circulating miR-134 is a potential biomarker f...   \n",
       "4     32884299  lncRNA LSINCT5 Regulates miR-20a-5p/XIAP to In...   \n",
       "...        ...                                                ...   \n",
       "8272   4120258  Chromosome assignments in man of the genes for...   \n",
       "8272   4120258  Chromosome assignments in man of the genes for...   \n",
       "8273   5659639  Effect of x-rays on the electrical conductance...   \n",
       "8274  14043337                     UNMINERALIZED FOSSIL BACTERIA.   \n",
       "8275  13850774      On the primary site of nuclear RNA synthesis.   \n",
       "\n",
       "     retraction_notice_pmid  \n",
       "0                  33258773  \n",
       "1                  33317564  \n",
       "2                  32986044  \n",
       "3                  33284900  \n",
       "4                  33273824  \n",
       "...                     ...  \n",
       "8272                1088818  \n",
       "8272                1203488  \n",
       "8273                5409980  \n",
       "8274                5644050  \n",
       "8275                5971970  \n",
       "\n",
       "[8389 rows x 3 columns]"
      ],
      "text/html": "<div>\n<style scoped>\n    .dataframe tbody tr th:only-of-type {\n        vertical-align: middle;\n    }\n\n    .dataframe tbody tr th {\n        vertical-align: top;\n    }\n\n    .dataframe thead th {\n        text-align: right;\n    }\n</style>\n<table border=\"1\" class=\"dataframe\">\n  <thead>\n    <tr style=\"text-align: right;\">\n      <th></th>\n      <th>pmid</th>\n      <th>title</th>\n      <th>retraction_notice_pmid</th>\n    </tr>\n  </thead>\n  <tbody>\n    <tr>\n      <th>0</th>\n      <td>33074103</td>\n      <td>Amino acid synthesis loss in parasitoid wasps ...</td>\n      <td>33258773</td>\n    </tr>\n    <tr>\n      <th>1</th>\n      <td>33040737</td>\n      <td>Globalization and vulnerable populations in ti...</td>\n      <td>33317564</td>\n    </tr>\n    <tr>\n      <th>2</th>\n      <td>32983561</td>\n      <td>Retracted: Exploring the microbiome and mindfu...</td>\n      <td>32986044</td>\n    </tr>\n    <tr>\n      <th>3</th>\n      <td>32922604</td>\n      <td>Circulating miR-134 is a potential biomarker f...</td>\n      <td>33284900</td>\n    </tr>\n    <tr>\n      <th>4</th>\n      <td>32884299</td>\n      <td>lncRNA LSINCT5 Regulates miR-20a-5p/XIAP to In...</td>\n      <td>33273824</td>\n    </tr>\n    <tr>\n      <th>...</th>\n      <td>...</td>\n      <td>...</td>\n      <td>...</td>\n    </tr>\n    <tr>\n      <th>8272</th>\n      <td>4120258</td>\n      <td>Chromosome assignments in man of the genes for...</td>\n      <td>1088818</td>\n    </tr>\n    <tr>\n      <th>8272</th>\n      <td>4120258</td>\n      <td>Chromosome assignments in man of the genes for...</td>\n      <td>1203488</td>\n    </tr>\n    <tr>\n      <th>8273</th>\n      <td>5659639</td>\n      <td>Effect of x-rays on the electrical conductance...</td>\n      <td>5409980</td>\n    </tr>\n    <tr>\n      <th>8274</th>\n      <td>14043337</td>\n      <td>UNMINERALIZED FOSSIL BACTERIA.</td>\n      <td>5644050</td>\n    </tr>\n    <tr>\n      <th>8275</th>\n      <td>13850774</td>\n      <td>On the primary site of nuclear RNA synthesis.</td>\n      <td>5971970</td>\n    </tr>\n  </tbody>\n</table>\n<p>8389 rows × 3 columns</p>\n</div>"
     },
     "metadata": {},
     "execution_count": 16
    }
   ],
   "source": [
    "retracted_papers"
   ]
  },
  {
   "cell_type": "code",
   "execution_count": 17,
   "metadata": {},
   "outputs": [],
   "source": [
    "def extract_swissprot_data(xml_string):\n",
    "    \"\"\"Extracts publication data from UniProt xml.\n",
    "    \n",
    "    Args:\n",
    "        xml_string (str): UniProt entries in xml format.\n",
    "\n",
    "    Returns:\n",
    "        rows: list of dictionaries with the following keys: accession, scope, pmid.\n",
    "    \"\"\"\n",
    "\n",
    "    ns = {'up': 'http://uniprot.org/uniprot'}\n",
    "    tree = et.fromstring(xml_string)\n",
    "    rows = []\n",
    "\n",
    "    for elem in tree:\n",
    "        accession = elem.find('up:accession', ns).text\n",
    "        references = elem.findall('up:reference', ns)\n",
    "        for r in references:\n",
    "            scope = r.find('up:scope', ns).text\n",
    "            try:\n",
    "                pmid = r.find('up:citation/up:dbReference[@type=\"PubMed\"]', ns).attrib['id']\n",
    "            except AttributeError:\n",
    "                pmid = None\n",
    "            if '-' not in accession: # ignore isoforms\n",
    "                rows.append({'accession': accession, 'scope':scope, 'pmid': pmid})\n",
    "    return rows"
   ]
  },
  {
   "cell_type": "markdown",
   "metadata": {},
   "source": [
    "Get a table of all retracted citations in SwissProt by accession."
   ]
  },
  {
   "cell_type": "code",
   "execution_count": 18,
   "metadata": {
    "tags": []
   },
   "outputs": [],
   "source": [
    "url = 'https://www.ebi.ac.uk/proteins/api/proteins?'\n",
    "headers = {'accept': 'application/xml'}\n",
    "\n",
    "pmid_list = retracted_papers['pmid']\n",
    "sp_rows = []\n",
    "\n",
    "with requests.Session() as session: \n",
    "    session.headers.update(headers)\n",
    "    for i in range(0, len(pmid_list), 20):\n",
    "        params = {\n",
    "            'pubmed': ','.join(j for j in pmid_list[i:i+20]),\n",
    "            'size': -1,\n",
    "            'reviewed': 'true',\n",
    "        }\n",
    "        r = session.get(url, params=params)\n",
    "        hits = int(r.headers['X-Pagination-TotalRecords'] )\n",
    "        if hits > 0:\n",
    "            rows = extract_swissprot_data(r.text)\n",
    "            sp_rows += rows"
   ]
  },
  {
   "cell_type": "code",
   "execution_count": 19,
   "metadata": {},
   "outputs": [
    {
     "output_type": "execute_result",
     "data": {
      "text/plain": [
       "     accession                                              scope      pmid\n",
       "0       P62993             NUCLEOTIDE SEQUENCE [MRNA] (ISOFORM 1)   1322798\n",
       "1       P62993             NUCLEOTIDE SEQUENCE [MRNA] (ISOFORM 1)   1384039\n",
       "2       P62993             NUCLEOTIDE SEQUENCE [MRNA] (ISOFORM 2)   8178156\n",
       "3       P62993                  NUCLEOTIDE SEQUENCE [GENOMIC DNA]  10051406\n",
       "4       P62993  NUCLEOTIDE SEQUENCE [LARGE SCALE MRNA] (ISOFOR...       NaN\n",
       "...        ...                                                ...       ...\n",
       "5991    P42166      LACK OF INVOLVEMENT IN DILATED CARDIOMYOPATHY  27896284\n",
       "5992    P42166                             INTERACTION WITH CMTM6  28813417\n",
       "5993    P42166                          STRUCTURE BY NMR OF 1-169  11500367\n",
       "5994    P42166               STRUCTURE BY NMR OF 1-57 AND 103-159  11435115\n",
       "5995    P42166                                    VARIANT CYS-690  16247757\n",
       "\n",
       "[5996 rows x 3 columns]"
      ],
      "text/html": "<div>\n<style scoped>\n    .dataframe tbody tr th:only-of-type {\n        vertical-align: middle;\n    }\n\n    .dataframe tbody tr th {\n        vertical-align: top;\n    }\n\n    .dataframe thead th {\n        text-align: right;\n    }\n</style>\n<table border=\"1\" class=\"dataframe\">\n  <thead>\n    <tr style=\"text-align: right;\">\n      <th></th>\n      <th>accession</th>\n      <th>scope</th>\n      <th>pmid</th>\n    </tr>\n  </thead>\n  <tbody>\n    <tr>\n      <th>0</th>\n      <td>P62993</td>\n      <td>NUCLEOTIDE SEQUENCE [MRNA] (ISOFORM 1)</td>\n      <td>1322798</td>\n    </tr>\n    <tr>\n      <th>1</th>\n      <td>P62993</td>\n      <td>NUCLEOTIDE SEQUENCE [MRNA] (ISOFORM 1)</td>\n      <td>1384039</td>\n    </tr>\n    <tr>\n      <th>2</th>\n      <td>P62993</td>\n      <td>NUCLEOTIDE SEQUENCE [MRNA] (ISOFORM 2)</td>\n      <td>8178156</td>\n    </tr>\n    <tr>\n      <th>3</th>\n      <td>P62993</td>\n      <td>NUCLEOTIDE SEQUENCE [GENOMIC DNA]</td>\n      <td>10051406</td>\n    </tr>\n    <tr>\n      <th>4</th>\n      <td>P62993</td>\n      <td>NUCLEOTIDE SEQUENCE [LARGE SCALE MRNA] (ISOFOR...</td>\n      <td>NaN</td>\n    </tr>\n    <tr>\n      <th>...</th>\n      <td>...</td>\n      <td>...</td>\n      <td>...</td>\n    </tr>\n    <tr>\n      <th>5991</th>\n      <td>P42166</td>\n      <td>LACK OF INVOLVEMENT IN DILATED CARDIOMYOPATHY</td>\n      <td>27896284</td>\n    </tr>\n    <tr>\n      <th>5992</th>\n      <td>P42166</td>\n      <td>INTERACTION WITH CMTM6</td>\n      <td>28813417</td>\n    </tr>\n    <tr>\n      <th>5993</th>\n      <td>P42166</td>\n      <td>STRUCTURE BY NMR OF 1-169</td>\n      <td>11500367</td>\n    </tr>\n    <tr>\n      <th>5994</th>\n      <td>P42166</td>\n      <td>STRUCTURE BY NMR OF 1-57 AND 103-159</td>\n      <td>11435115</td>\n    </tr>\n    <tr>\n      <th>5995</th>\n      <td>P42166</td>\n      <td>VARIANT CYS-690</td>\n      <td>16247757</td>\n    </tr>\n  </tbody>\n</table>\n<p>5996 rows × 3 columns</p>\n</div>"
     },
     "metadata": {},
     "execution_count": 19
    }
   ],
   "source": [
    "sp_refs = pd.DataFrame(sp_rows)\n",
    "sp_refs.pmid.fillna(value=np.nan, inplace=True)\n",
    "sp_refs"
   ]
  },
  {
   "cell_type": "code",
   "execution_count": 20,
   "metadata": {},
   "outputs": [
    {
     "output_type": "execute_result",
     "data": {
      "text/plain": [
       "    accession                                              scope      pmid  \\\n",
       "0      P62993                           INTERACTION WITH ZDHHC19  31462771   \n",
       "1      Q8WVZ1                                           FUNCTION  31462771   \n",
       "2      P40763                                           FUNCTION  31462771   \n",
       "3      Q8N3U4  VARIANTS MKMS 743-TRP--PHE-1231 DEL AND 1033-A...  30765867   \n",
       "4      P23874                                           FUNCTION  25848049   \n",
       "..        ...                                                ...       ...   \n",
       "306    P15115                  NUCLEOTIDE SEQUENCE [GENOMIC DNA]   2684782   \n",
       "307    P00362                  NUCLEOTIDE SEQUENCE [GENOMIC DNA]   2684782   \n",
       "308    Q89933                  NUCLEOTIDE SEQUENCE [GENOMIC RNA]   2303032   \n",
       "309    P62157                                    RETRACTED PAPER   3058479   \n",
       "310    P42166                           PARTIAL PROTEIN SEQUENCE   3473468   \n",
       "\n",
       "                                                 title retraction_notice_pmid  \n",
       "0    Fatty acids and cancer-amplified ZDHHC19 promo...               32555452  \n",
       "1    Fatty acids and cancer-amplified ZDHHC19 promo...               32555452  \n",
       "2    Fatty acids and cancer-amplified ZDHHC19 promo...               32555452  \n",
       "3    Nonsense variants in STAG2 result in distinct ...               32536687  \n",
       "4    Stochastic induction of persister cells by Hip...               31110010  \n",
       "..                                                 ...                    ...  \n",
       "306  Nucleotide sequences of genes encoding heat-st...                2227448  \n",
       "307  Nucleotide sequences of genes encoding heat-st...                2227448  \n",
       "308         Infectious measles virus from cloned cDNA.                1915308  \n",
       "309  Heat-resistant inhibitors of protein kinase C ...                2180696  \n",
       "310  Isolation and complete amino acid sequence of ...                8016147  \n",
       "\n",
       "[311 rows x 5 columns]"
      ],
      "text/html": "<div>\n<style scoped>\n    .dataframe tbody tr th:only-of-type {\n        vertical-align: middle;\n    }\n\n    .dataframe tbody tr th {\n        vertical-align: top;\n    }\n\n    .dataframe thead th {\n        text-align: right;\n    }\n</style>\n<table border=\"1\" class=\"dataframe\">\n  <thead>\n    <tr style=\"text-align: right;\">\n      <th></th>\n      <th>accession</th>\n      <th>scope</th>\n      <th>pmid</th>\n      <th>title</th>\n      <th>retraction_notice_pmid</th>\n    </tr>\n  </thead>\n  <tbody>\n    <tr>\n      <th>0</th>\n      <td>P62993</td>\n      <td>INTERACTION WITH ZDHHC19</td>\n      <td>31462771</td>\n      <td>Fatty acids and cancer-amplified ZDHHC19 promo...</td>\n      <td>32555452</td>\n    </tr>\n    <tr>\n      <th>1</th>\n      <td>Q8WVZ1</td>\n      <td>FUNCTION</td>\n      <td>31462771</td>\n      <td>Fatty acids and cancer-amplified ZDHHC19 promo...</td>\n      <td>32555452</td>\n    </tr>\n    <tr>\n      <th>2</th>\n      <td>P40763</td>\n      <td>FUNCTION</td>\n      <td>31462771</td>\n      <td>Fatty acids and cancer-amplified ZDHHC19 promo...</td>\n      <td>32555452</td>\n    </tr>\n    <tr>\n      <th>3</th>\n      <td>Q8N3U4</td>\n      <td>VARIANTS MKMS 743-TRP--PHE-1231 DEL AND 1033-A...</td>\n      <td>30765867</td>\n      <td>Nonsense variants in STAG2 result in distinct ...</td>\n      <td>32536687</td>\n    </tr>\n    <tr>\n      <th>4</th>\n      <td>P23874</td>\n      <td>FUNCTION</td>\n      <td>25848049</td>\n      <td>Stochastic induction of persister cells by Hip...</td>\n      <td>31110010</td>\n    </tr>\n    <tr>\n      <th>...</th>\n      <td>...</td>\n      <td>...</td>\n      <td>...</td>\n      <td>...</td>\n      <td>...</td>\n    </tr>\n    <tr>\n      <th>306</th>\n      <td>P15115</td>\n      <td>NUCLEOTIDE SEQUENCE [GENOMIC DNA]</td>\n      <td>2684782</td>\n      <td>Nucleotide sequences of genes encoding heat-st...</td>\n      <td>2227448</td>\n    </tr>\n    <tr>\n      <th>307</th>\n      <td>P00362</td>\n      <td>NUCLEOTIDE SEQUENCE [GENOMIC DNA]</td>\n      <td>2684782</td>\n      <td>Nucleotide sequences of genes encoding heat-st...</td>\n      <td>2227448</td>\n    </tr>\n    <tr>\n      <th>308</th>\n      <td>Q89933</td>\n      <td>NUCLEOTIDE SEQUENCE [GENOMIC RNA]</td>\n      <td>2303032</td>\n      <td>Infectious measles virus from cloned cDNA.</td>\n      <td>1915308</td>\n    </tr>\n    <tr>\n      <th>309</th>\n      <td>P62157</td>\n      <td>RETRACTED PAPER</td>\n      <td>3058479</td>\n      <td>Heat-resistant inhibitors of protein kinase C ...</td>\n      <td>2180696</td>\n    </tr>\n    <tr>\n      <th>310</th>\n      <td>P42166</td>\n      <td>PARTIAL PROTEIN SEQUENCE</td>\n      <td>3473468</td>\n      <td>Isolation and complete amino acid sequence of ...</td>\n      <td>8016147</td>\n    </tr>\n  </tbody>\n</table>\n<p>311 rows × 5 columns</p>\n</div>"
     },
     "metadata": {},
     "execution_count": 20
    }
   ],
   "source": [
    "retracted_papers_in_swissprot = pd.merge(left=sp_refs, right=retracted_papers, on='pmid')\n",
    "retracted_papers_in_swissprot"
   ]
  },
  {
   "cell_type": "code",
   "execution_count": 21,
   "metadata": {},
   "outputs": [
    {
     "output_type": "execute_result",
     "data": {
      "text/plain": [
       "138"
      ]
     },
     "metadata": {},
     "execution_count": 21
    }
   ],
   "source": [
    "retracted_papers_in_swissprot['pmid'].nunique()"
   ]
  },
  {
   "cell_type": "code",
   "execution_count": 22,
   "metadata": {},
   "outputs": [],
   "source": [
    "uncurated_retractions = retracted_papers_in_swissprot[retracted_papers_in_swissprot['scope'] != 'RETRACTED PAPER']"
   ]
  },
  {
   "source": [
    "Number of retracted publications for removal."
   ],
   "cell_type": "markdown",
   "metadata": {}
  },
  {
   "cell_type": "code",
   "execution_count": 23,
   "metadata": {},
   "outputs": [
    {
     "output_type": "execute_result",
     "data": {
      "text/plain": [
       "98"
      ]
     },
     "metadata": {},
     "execution_count": 23
    }
   ],
   "source": [
    "uncurated_retractions['pmid'].nunique()"
   ]
  },
  {
   "cell_type": "markdown",
   "metadata": {},
   "source": [
    "Number of SwissProt accessions affected."
   ]
  },
  {
   "cell_type": "code",
   "execution_count": 24,
   "metadata": {},
   "outputs": [
    {
     "output_type": "execute_result",
     "data": {
      "text/plain": [
       "203"
      ]
     },
     "metadata": {},
     "execution_count": 24
    }
   ],
   "source": [
    "uncurated_retractions['accession'].nunique()"
   ]
  },
  {
   "cell_type": "code",
   "execution_count": 25,
   "metadata": {},
   "outputs": [],
   "source": [
    "cols = ['accession', 'scope', 'pmid', 'title', 'retraction_notice_pmid']\n",
    "\n",
    "uncurated_retractions.to_csv(report_file, sep='\\t', index=False, columns=cols)"
   ]
  }
 ],
 "metadata": {
  "celltoolbar": "Tags",
  "kernelspec": {
   "display_name": "Python 3",
   "language": "python",
   "name": "python3"
  },
  "language_info": {
   "codemirror_mode": {
    "name": "ipython",
    "version": 3
   },
   "file_extension": ".py",
   "mimetype": "text/x-python",
   "name": "python",
   "nbconvert_exporter": "python",
   "pygments_lexer": "ipython3",
   "version": "3.9.1-final"
  }
 },
 "nbformat": 4,
 "nbformat_minor": 4
}